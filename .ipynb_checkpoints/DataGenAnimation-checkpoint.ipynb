{
 "cells": [
  {
   "cell_type": "code",
   "execution_count": null,
   "metadata": {},
   "outputs": [],
   "source": [
    "import csv\n",
    "import random\n",
    "import time\n",
    "import datetime\n",
    "from datetime import datetime\n",
    "import board\n",
    "import busio\n",
    "import adafruit_bmp3xx"
   ]
  },
  {
   "cell_type": "code",
   "execution_count": 23,
   "metadata": {},
   "outputs": [],
   "source": [
    "# define raspberry pi and sensor interface\n",
    "i2c = busio.I2C(board.SCL, board.SDA)\n",
    "bmp = adafruit_bmp3xx.BMP3XX_I2C(i2c)"
   ]
  },
  {
   "cell_type": "code",
   "execution_count": 25,
   "metadata": {},
   "outputs": [
    {
     "name": "stdout",
     "output_type": "stream",
     "text": [
      "1 20.14\n",
      "2 20.14\n",
      "3 20.14\n",
      "4 20.14\n",
      "5 20.14\n",
      "6 20.14\n",
      "7 20.14\n",
      "8 20.14\n",
      "9 20.13\n",
      "10 20.14\n",
      "11 20.14\n",
      "12 20.13\n",
      "13 20.14\n",
      "14 20.13\n",
      "15 20.14\n",
      "16 20.13\n",
      "17 20.15\n",
      "18 21.28\n",
      "19 22.02\n",
      "20 22.37\n",
      "21 21.93\n",
      "22 21.86\n",
      "23 21.80\n",
      "24 21.71\n",
      "25 21.64\n",
      "26 21.59\n",
      "27 21.55\n",
      "28 21.52\n",
      "29 21.46\n",
      "30 21.40\n",
      "31 21.36\n",
      "32 21.29\n",
      "33 21.21\n",
      "34 21.12\n",
      "35 21.01\n",
      "36 20.98\n",
      "37 20.90\n",
      "38 20.84\n",
      "39 20.85\n",
      "40 20.84\n",
      "41 20.82\n"
     ]
    },
    {
     "ename": "KeyboardInterrupt",
     "evalue": "",
     "output_type": "error",
     "traceback": [
      "\u001b[0;31m---------------------------------------------------------------------------\u001b[0m",
      "\u001b[0;31mKeyboardInterrupt\u001b[0m                         Traceback (most recent call last)",
      "\u001b[0;32m<ipython-input-25-8ad34e1c9bf4>\u001b[0m in \u001b[0;36m<module>\u001b[0;34m\u001b[0m\n\u001b[1;32m     30\u001b[0m         \u001b[0mprint\u001b[0m\u001b[0;34m(\u001b[0m\u001b[0msecs\u001b[0m\u001b[0;34m,\u001b[0m \u001b[0mtemp\u001b[0m\u001b[0;34m)\u001b[0m\u001b[0;34m\u001b[0m\u001b[0;34m\u001b[0m\u001b[0m\n\u001b[1;32m     31\u001b[0m \u001b[0;34m\u001b[0m\u001b[0m\n\u001b[0;32m---> 32\u001b[0;31m     \u001b[0mtime\u001b[0m\u001b[0;34m.\u001b[0m\u001b[0msleep\u001b[0m\u001b[0;34m(\u001b[0m\u001b[0;36m1\u001b[0m\u001b[0;34m)\u001b[0m\u001b[0;34m\u001b[0m\u001b[0;34m\u001b[0m\u001b[0m\n\u001b[0m",
      "\u001b[0;31mKeyboardInterrupt\u001b[0m: "
     ]
    }
   ],
   "source": [
    "#currenttime = datetime.now().strftime(\"%H:%M:%S\")\n",
    "secs = 0\n",
    "temp = \"{:.2f}\".format(bmp.temperature)\n",
    "\n",
    "#fieldnames = [\"currenttime\", \"temp\"]\n",
    "fieldnames = [\"secs\", \"temp\"]\n",
    "\n",
    "\n",
    "with open('data.csv', 'w') as csv_file:\n",
    "    csv_writer = csv.DictWriter(csv_file, fieldnames=fieldnames)\n",
    "    csv_writer.writeheader()\n",
    "\n",
    "while True:\n",
    "\n",
    "    with open('data.csv', 'a') as csv_file:\n",
    "        csv_writer = csv.DictWriter(csv_file, fieldnames=fieldnames)\n",
    "\n",
    "        #currenttime = datetime.now().strftime(\"%H:%M:%S\")\n",
    "        secs += 1\n",
    "        temp = \"{:.2f}\".format(bmp.temperature)\n",
    "        \n",
    "        info = {\n",
    "            #\"currenttime\": currenttime,\n",
    "            \"secs\": secs,\n",
    "            \"temp\": temp,\n",
    "        }\n",
    "\n",
    "        csv_writer.writerow(info)\n",
    "        #print(currenttime, temp)\n",
    "        print(secs, temp)\n",
    "\n",
    "    time.sleep(1)\n"
   ]
  },
  {
   "cell_type": "code",
   "execution_count": null,
   "metadata": {},
   "outputs": [],
   "source": []
  }
 ],
 "metadata": {
  "kernelspec": {
   "display_name": "Python 3",
   "language": "python",
   "name": "python3"
  },
  "language_info": {
   "codemirror_mode": {
    "name": "ipython",
    "version": 3
   },
   "file_extension": ".py",
   "mimetype": "text/x-python",
   "name": "python",
   "nbconvert_exporter": "python",
   "pygments_lexer": "ipython3",
   "version": "3.7.3"
  }
 },
 "nbformat": 4,
 "nbformat_minor": 4
}
