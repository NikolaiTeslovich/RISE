{
 "cells": [
  {
   "cell_type": "code",
   "execution_count": null,
   "metadata": {},
   "outputs": [],
   "source": [
    "import pandas \n",
    "import board \n",
    "import busio \n",
    "import adafruit_bmp3xx \n",
    "import adafruit_lsm303_accel\n",
    "import adafruit_lsm303dlh_mag\n",
    "##### let's add in some extra functionality #####\n",
    "import time #time package (if you want to use the sleep command and/or keep track of time)\n",
    "import picamera #running the camera while gathering datas\n",
    "\n",
    "\n",
    "#define Vars\n",
    "\n",
    "#Theshold for sensors (in seconds)\n",
    "sensorTime = 400\n",
    "\n",
    "##### set up I2C and sensors #####\n",
    "i2c = busio.I2C(board.SCL,board.SDA) \n",
    "bmp = adafruit_bmp3xx.BMP3XX_I2C(i2c) \n",
    "accel = adafruit_lsm303_accel.LSM303_Accel(i2c)\n",
    "mag = adafruit_lsm303dlh_mag.LSM303DLH_Mag(i2c)\n",
    "\n",
    "##### let's say we want to make a list of all sensor measurements and alo keep track of time... #####\n",
    "df = pandas.DataFrame(columns=['time','temperature','pressure',\n",
    "                                'acc_x','acc_y','acc_z',\n",
    "                                'mag_x','mag_y','mag_z'])"
   ]
  },
  {
   "cell_type": "code",
   "execution_count": null,
   "metadata": {},
   "outputs": [],
   "source": [
    "#set up a DataFrame with columns time, for temp, pressure, 3 columns for acceleraton and 3 for magnetometer\n",
    "\n",
    "start_time = time.time() #reference for t=0\n",
    "# cam = picamera.PiCamera() #intiialize camera\n",
    "# cam.resolution = (640,800) #set camera resolution\n",
    "# cam.start_recording('testvid.h264') #start recording and name video file"
   ]
  },
  {
   "cell_type": "code",
   "execution_count": null,
   "metadata": {},
   "outputs": [],
   "source": [
    "#main Loop\n",
    "\n",
    "while (time.time() - start_time) <= sensorTime:\n",
    "\n",
    "    for i in range(100): #repeat measurements and data append 10 times (perahps increase to 100 or 1000)\n",
    "        elapsed_time = time.time() - start_time # current time in seconds since start_time\n",
    "        df = df.append({'time':elapsed_time, #add in current time\n",
    "                    'temperature':bmp.temperature,\n",
    "                    'pressure':bmp.pressure,\n",
    "                    'acc_x':accel.acceleration[0],\n",
    "                    'acc_y':accel.acceleration[1],\n",
    "                    'acc_z':accel.acceleration[2],\n",
    "                    'mag_x':mag.magnetic[0],\n",
    "                    'mag_y':mag.magnetic[1],\n",
    "                    'mag_z':mag.magnetic[2]},ignore_index=True)\n",
    "\n",
    "    df.to_csv('time_temp_press_accel_mag.csv', index = False, mode='a', row.names=\"F\")\n",
    "    df.drop(df.index[[0,99]])\n",
    "\n",
    "\n",
    "\n",
    "\n",
    "\n",
    "\n",
    "\n",
    "\n",
    "\n",
    "# cam.stop_recording()\n",
    "df.to_csv('time_temp_press_accel_mag.csv') #to save data as CSV file\n",
    "total_elapsed = time.time() - start_time\n",
    "print(total_elapsed)"
   ]
  }
 ],
 "metadata": {
  "kernelspec": {
   "display_name": "Python 3",
   "language": "python",
   "name": "python3"
  },
  "language_info": {
   "codemirror_mode": {
    "name": "ipython",
    "version": 3
   },
   "file_extension": ".py",
   "mimetype": "text/x-python",
   "name": "python",
   "nbconvert_exporter": "python",
   "pygments_lexer": "ipython3",
   "version": "3.7.3"
  }
 },
 "nbformat": 4,
 "nbformat_minor": 4
}
