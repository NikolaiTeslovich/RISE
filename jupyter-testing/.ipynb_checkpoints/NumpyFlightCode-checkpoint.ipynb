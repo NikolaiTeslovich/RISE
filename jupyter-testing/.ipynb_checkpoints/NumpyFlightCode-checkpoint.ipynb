{
 "cells": [
  {
   "cell_type": "code",
   "execution_count": null,
   "metadata": {},
   "outputs": [
    {
     "name": "stdout",
     "output_type": "stream",
     "text": [
      "made directory at /home/pi/RISE/data5\n",
      "--- 0.11240625381469727 seconds to save data ---\n",
      "--- 0.09734249114990234 seconds to save data ---\n",
      "--- 0.09771037101745605 seconds to save data ---\n",
      "--- 0.09710264205932617 seconds to save data ---\n",
      "--- 0.1121375560760498 seconds to save data ---\n",
      "--- 0.09683465957641602 seconds to save data ---\n",
      "--- 0.09690690040588379 seconds to save data ---\n",
      "--- 0.09706950187683105 seconds to save data ---\n",
      "--- 0.0976407527923584 seconds to save data ---\n",
      "--- 0.09775447845458984 seconds to save data ---\n",
      "--- 0.0999155044555664 seconds to save data ---\n",
      "--- 0.0969705581665039 seconds to save data ---\n",
      "--- 0.1120915412902832 seconds to save data ---\n",
      "--- 0.09685182571411133 seconds to save data ---\n",
      "--- 0.09751057624816895 seconds to save data ---\n"
     ]
    }
   ],
   "source": [
    "import os\n",
    "import glob\n",
    "import numpy as np\n",
    "import board\n",
    "import busio\n",
    "import adafruit_bmp3xx\n",
    "import adafruit_lsm303_accel\n",
    "import adafruit_lsm303dlh_mag\n",
    "import time\n",
    "import picamera\n",
    "import pandas as pd\n",
    "\n",
    "# Setup a directory to save the data in\n",
    "\n",
    "main_dir = os.listdir('/home/pi/RISE')\n",
    "\n",
    "names = np.array([0])\n",
    "\n",
    "for name in main_dir:\n",
    "    if name.startswith('data'):\n",
    "        name = np.array([name[-1]]).astype(np.int)\n",
    "        names = np.append(names, name, axis=0).astype(np.int)\n",
    "\n",
    "data_dir = f'/home/pi/RISE/data{np.max(names) + 1}'\n",
    "\n",
    "os.mkdir(data_dir)\n",
    "\n",
    "print('made directory at ' + data_dir)\n",
    "\n",
    "# Set up I2C and sensors\n",
    "\n",
    "i2c = busio.I2C(board.SCL, board.SDA)\n",
    "bmp = adafruit_bmp3xx.BMP3XX_I2C(i2c)\n",
    "accel = adafruit_lsm303_accel.LSM303_Accel(i2c)\n",
    "mag = adafruit_lsm303dlh_mag.LSM303DLH_Mag(i2c)\n",
    "\n",
    "# Set up camera stuff\n",
    "### MAYBE ALSO ITERATE THE CAMERA RECORDINGS ###\n",
    "### Format the recordings somehow ###\n",
    "# cam = picamera.PiCamera() #intialize camera\n",
    "# cam.resolution = (640, 480)\n",
    "# camera.framerate = 90\n",
    "# cam.start_recording(data_dir + '/' + 'video.h264') #start recording and name video file\n",
    "\n",
    "# Define the time parameters\n",
    "\n",
    "start_time = time.time()\n",
    "delay_time = 10\n",
    "record_time = 300\n",
    "\n",
    "# iterating parameters\n",
    "\n",
    "i = 0\n",
    "\n",
    "## find a good interval for this value\n",
    "iters = 200\n",
    "\n",
    "elapsed_time = time.time() - start_time\n",
    "\n",
    "# Define the array with all of the data\n",
    "\n",
    "datas = np.array([[(elapsed_time - delay_time), bmp.temperature, bmp.pressure,\n",
    "                 accel.acceleration[0], accel.acceleration[1], accel.acceleration[2],\n",
    "                 mag.magnetic[0], mag.magnetic[1], mag.magnetic[2]]])\n",
    "\n",
    "# Define the function to save a temporary file\n",
    "def saveTempFile():\n",
    "    # the formatting (the '{:03}') allows for up to 999 temp files\n",
    "    file = open(data_dir + '/data' + '{:03}'.format(int(i / iters)) + '.csv', \"w\")\n",
    "    np.savetxt(data_dir + '/data' + '{:03}'.format(int(i / iters)) + '.csv', datas, delimiter=\",\")\n",
    "    file.close()\n",
    "\n",
    "while time.time() - start_time < delay_time + record_time:\n",
    "    # Update elapsed time with every run\n",
    "    elapsed_time = time.time() - start_time\n",
    "    # Skip everything else if we're still in the delay period\n",
    "    if elapsed_time < delay_time:\n",
    "        continue\n",
    "    # Append data to the array\n",
    "    data = np.array([[(elapsed_time - delay_time), bmp.temperature, bmp.pressure,\n",
    "                 accel.acceleration[0], accel.acceleration[1], accel.acceleration[2],\n",
    "                 mag.magnetic[0], mag.magnetic[1], mag.magnetic[2]]])\n",
    "    datas = np.append(datas, data, axis=0)\n",
    "\n",
    "    i += 1\n",
    "\n",
    "    #save the data every so often\n",
    "    if ((i + 1) % iters) == 0:\n",
    "        #TESTING\n",
    "        test_time = time.time()\n",
    "        saveTempFile()\n",
    "        #wipe the array to keep the same save time\n",
    "        datas = np.array([[]])\n",
    "        datas = np.array([[(elapsed_time - delay_time), bmp.temperature, bmp.pressure,\n",
    "                 accel.acceleration[0], accel.acceleration[1], accel.acceleration[2],\n",
    "                 mag.magnetic[0], mag.magnetic[1], mag.magnetic[2]]])\n",
    "        #testing\n",
    "        print(\"--- %s seconds to save data ---\" % (time.time() - test_time))\n",
    "\n",
    "#save the last bit of data after the final loop\n",
    "saveTempFile()\n",
    "\n",
    "# Stop the camera recording\n",
    "#cam.stop_recording()\n",
    "\n",
    "# make a massive, beautiful csv file at the end with all of the data\n",
    "all_files = sorted(glob.glob(data_dir + '/' + '*.csv'))\n",
    "df_from_each_file = (pd.read_csv(f, sep=',', header=None, \n",
    "                                 names=['time','temperature','pressure', \n",
    "                                        'acc_x','acc_y','acc_z', \n",
    "                                        'mag_x','mag_y','mag_z']) for f in all_files)\n",
    "df_merged = pd.concat(df_from_each_file, axis=0, ignore_index=True)\n",
    "df_merged.to_csv(data_dir + '/' + 'merged.csv')\n",
    "\n",
    "print('done sir')\n",
    "\n",
    "df_merged\n"
   ]
  },
  {
   "cell_type": "code",
   "execution_count": 41,
   "metadata": {},
   "outputs": [
    {
     "data": {
      "text/plain": [
       "['/home/pi/RISE/data4/data0.csv',\n",
       " '/home/pi/RISE/data4/data1.csv',\n",
       " '/home/pi/RISE/data4/data10.csv',\n",
       " '/home/pi/RISE/data4/data11.csv',\n",
       " '/home/pi/RISE/data4/data12.csv',\n",
       " '/home/pi/RISE/data4/data13.csv',\n",
       " '/home/pi/RISE/data4/data14.csv',\n",
       " '/home/pi/RISE/data4/data15.csv',\n",
       " '/home/pi/RISE/data4/data16.csv',\n",
       " '/home/pi/RISE/data4/data17.csv',\n",
       " '/home/pi/RISE/data4/data18.csv',\n",
       " '/home/pi/RISE/data4/data19.csv',\n",
       " '/home/pi/RISE/data4/data2.csv',\n",
       " '/home/pi/RISE/data4/data20.csv',\n",
       " '/home/pi/RISE/data4/data21.csv',\n",
       " '/home/pi/RISE/data4/data22.csv',\n",
       " '/home/pi/RISE/data4/data23.csv',\n",
       " '/home/pi/RISE/data4/data24.csv',\n",
       " '/home/pi/RISE/data4/data25.csv',\n",
       " '/home/pi/RISE/data4/data26.csv',\n",
       " '/home/pi/RISE/data4/data27.csv',\n",
       " '/home/pi/RISE/data4/data28.csv',\n",
       " '/home/pi/RISE/data4/data29.csv',\n",
       " '/home/pi/RISE/data4/data3.csv',\n",
       " '/home/pi/RISE/data4/data30.csv',\n",
       " '/home/pi/RISE/data4/data31.csv',\n",
       " '/home/pi/RISE/data4/data32.csv',\n",
       " '/home/pi/RISE/data4/data33.csv',\n",
       " '/home/pi/RISE/data4/data34.csv',\n",
       " '/home/pi/RISE/data4/data35.csv',\n",
       " '/home/pi/RISE/data4/data36.csv',\n",
       " '/home/pi/RISE/data4/data37.csv',\n",
       " '/home/pi/RISE/data4/data38.csv',\n",
       " '/home/pi/RISE/data4/data39.csv',\n",
       " '/home/pi/RISE/data4/data4.csv',\n",
       " '/home/pi/RISE/data4/data40.csv',\n",
       " '/home/pi/RISE/data4/data41.csv',\n",
       " '/home/pi/RISE/data4/data42.csv',\n",
       " '/home/pi/RISE/data4/data43.csv',\n",
       " '/home/pi/RISE/data4/data45.csv',\n",
       " '/home/pi/RISE/data4/data5.csv',\n",
       " '/home/pi/RISE/data4/data6.csv',\n",
       " '/home/pi/RISE/data4/data7.csv',\n",
       " '/home/pi/RISE/data4/data8.csv',\n",
       " '/home/pi/RISE/data4/data9.csv',\n",
       " '/home/pi/RISE/data4/merged.csv']"
      ]
     },
     "execution_count": 41,
     "metadata": {},
     "output_type": "execute_result"
    }
   ],
   "source": [
    "all_files = sorted(glob.glob(data_dir + '/' + '*.csv'))\n",
    "\n",
    "all_files"
   ]
  },
  {
   "cell_type": "code",
   "execution_count": 57,
   "metadata": {},
   "outputs": [
    {
     "data": {
      "text/plain": [
       "'044'"
      ]
     },
     "execution_count": 57,
     "metadata": {},
     "output_type": "execute_result"
    }
   ],
   "source": [
    "'{:03}'.format(int(i / iters))"
   ]
  },
  {
   "cell_type": "code",
   "execution_count": 53,
   "metadata": {},
   "outputs": [],
   "source": [
    "def nametempfile():\n",
    "    return '{:03}'.format(int(i / iters))"
   ]
  },
  {
   "cell_type": "code",
   "execution_count": null,
   "metadata": {},
   "outputs": [],
   "source": [
    "def saveTempFile():\n",
    "    file = open(data_dir + '/' + f'data{'{:03}'.format(int(i / iters))}.csv', \"w\")\n",
    "    np.savetxt(data_dir + '/' + f'data{'{:03}'.format(int(i / iters))}.csv', datas, delimiter=\",\")\n",
    "    file.close()"
   ]
  },
  {
   "cell_type": "code",
   "execution_count": null,
   "metadata": {},
   "outputs": [],
   "source": [
    "collects data about 50 times per second is the theoretical upper limit"
   ]
  }
 ],
 "metadata": {
  "kernelspec": {
   "display_name": "Python 3",
   "language": "python",
   "name": "python3"
  },
  "language_info": {
   "codemirror_mode": {
    "name": "ipython",
    "version": 3
   },
   "file_extension": ".py",
   "mimetype": "text/x-python",
   "name": "python",
   "nbconvert_exporter": "python",
   "pygments_lexer": "ipython3",
   "version": "3.7.3"
  }
 },
 "nbformat": 4,
 "nbformat_minor": 4
}
