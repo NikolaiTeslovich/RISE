{
 "cells": [
  {
   "cell_type": "code",
   "execution_count": null,
   "metadata": {},
   "outputs": [],
   "source": [
    "import os\n",
    "import pandas\n",
    "import board\n",
    "import busio\n",
    "import adafruit_bmp3xx\n",
    "import adafruit_lsm303_accel\n",
    "import adafruit_lsm303dlh_mag\n",
    "import time\n",
    "import picamera\n",
    "\n",
    "# Delete the csvs if they already exist to eliminate any confusion\n",
    "for file_name in os.listdir('/home/pi/RISE/data'):\n",
    "    if file_name.endswith('.csv'):\n",
    "        os.remove(f'/home/pi/RISE/data/{file_name}')\n",
    "\n",
    "# Set up I2C and sensors\n",
    "i2c = busio.I2C(board.SCL, board.SDA)\n",
    "bmp = adafruit_bmp3xx.BMP3XX_I2C(i2c)\n",
    "accel = adafruit_lsm303_accel.LSM303_Accel(i2c)\n",
    "mag = adafruit_lsm303dlh_mag.LSM303DLH_Mag(i2c)\n",
    "\n",
    "# DataFrame with columns time, temp, pressure, 3 for acceleraton and 3 for magnetometer\n",
    "df = pandas.DataFrame(columns=['time','temperature','pressure',\n",
    "                               'acc_x','acc_y','acc_z',\n",
    "                               'mag_x','mag_y','mag_z'])\n",
    "\n",
    "# Set up camera stuff.\n",
    "### MAYBE ALSO ITERATE THE CAMERA RECORDINGS ###\n",
    "# cam = picamera.PiCamera() #intialize camera\n",
    "# cam.resolution = (640, 480)\n",
    "# camera.framerate = 90\n",
    "# cam.start_recording('video.h264') #start recording and name video file\n",
    "\n",
    "# Define start time, delay, and the record time\n",
    "start_time = time.time()\n",
    "delay_time = 5\n",
    "record_time = 20\n",
    "\n",
    "# iterating parameters\n",
    "i = 0\n",
    "iters = 20\n",
    "\n",
    "# FOR TESTING\n",
    "print('Start')\n",
    "\n",
    "while time.time() - start_time < delay_time + record_time:\n",
    "    # Update elapsed time with every run\n",
    "    elapsed_time = time.time() - start_time\n",
    "    # Skip everything else if we're still in the delay period\n",
    "    if elapsed_time < delay_time:\n",
    "        continue\n",
    "    # Otherwise, append data to dataframe\n",
    "    df = df.append({'time':(elapsed_time - delay_time),\n",
    "                    'temperature':bmp.temperature,\n",
    "                    'pressure':bmp.pressure,\n",
    "                    'acc_x':accel.acceleration[0],\n",
    "                    'acc_y':accel.acceleration[1],\n",
    "                    'acc_z':accel.acceleration[2],\n",
    "                    'mag_x':mag.magnetic[0],\n",
    "                    'mag_y':mag.magnetic[1],\n",
    "                    'mag_z':mag.magnetic[2]},\n",
    "                    ignore_index=True)\n",
    "    # start the counter\n",
    "    i += 1\n",
    "    # save a file every so often to ensure bullet-proofness depending on iterations\n",
    "    if (i % iters) == 0:\n",
    "        fo = open(f'/home/pi/RISE/data/data_temporary_{int(i / iters)}.csv')\n",
    "        df.to_csv(f'/home/pi/RISE/data/data_temporary_{int(i / iters)}.csv', index = False)\n",
    "        # FOR TESTING\n",
    "        fo.close()\n",
    "\n",
    "        print('data saved!')\n",
    "\n",
    "# save all the data in one file, if the program ran successfully\n",
    "df.to_csv('/home/pi/RISE/data/data.csv', index = False)\n",
    "\n",
    "# Delete the temporary files if the program ran successfully\n",
    "for file_name in os.listdir('/home/pi/RISE/data'):\n",
    "    if file_name.startswith('data_temporary') and file_name.endswith('.csv'):\n",
    "        os.remove(f'/home/pi/RISE/data/{file_name}')\n",
    "\n",
    "# Stop the camera recording\n",
    "#cam.stop_recording()\n",
    "\n",
    "# FOR TESTING\n",
    "print('Finished')\n",
    "print(elapsed_time)\n"
   ]
  },
  {
   "cell_type": "code",
   "execution_count": 18,
   "metadata": {},
   "outputs": [
    {
     "name": "stdout",
     "output_type": "stream",
     "text": [
      "[1. 2. 3.]\n"
     ]
    }
   ],
   "source": [
    "import numpy as np\n",
    "\n",
    "for i in 100\n",
    "\n",
    "x = np.array([])\n",
    "\n",
    "y = np.append(x, [1, 2, 3])\n",
    "\n",
    "print(y)"
   ]
  },
  {
   "cell_type": "code",
   "execution_count": 35,
   "metadata": {},
   "outputs": [
    {
     "name": "stdout",
     "output_type": "stream",
     "text": [
      "[[ 1  2  3]\n",
      " [50 60 70]]\n"
     ]
    }
   ],
   "source": [
    "import numpy\n",
    "\n",
    "a = numpy.array([[1, 2, 3]])\n",
    "\n",
    "newArray = numpy.append(a, [[50, 60, 70]], axis = 0)\n",
    "\n",
    "n = numpy.array([[i, (elapsed_time - delay_time), bmp.temperature, bmp.pressure, \n",
    "                 accel.acceleration[0], accel.acceleration[1], accel.acceleration[2], \n",
    "                 mag.magnetic[0], mag.magnetic[1], mag.magnetic[2]]])\n",
    "\n",
    "print(newArray)"
   ]
  },
  {
   "cell_type": "code",
   "execution_count": 44,
   "metadata": {},
   "outputs": [
    {
     "name": "stdout",
     "output_type": "stream",
     "text": [
      "[[ 1  2  3]\n",
      " [50 60 70]]\n"
     ]
    }
   ],
   "source": [
    "a = numpy.array([[1, 2, 3]])\n",
    "\n",
    "newArray = np.append(a, [[50, 60, 70]], axis = 0)\n",
    "\n",
    "print(newArray)"
   ]
  },
  {
   "cell_type": "code",
   "execution_count": 74,
   "metadata": {},
   "outputs": [
    {
     "name": "stdout",
     "output_type": "stream",
     "text": [
      "[[ 1  2  3]\n",
      " [50 60 70]]\n"
     ]
    }
   ],
   "source": [
    "newArray = np.append(a, [[50, 60, 70]], axis = 0)\n",
    "\n",
    "print(newArray) "
   ]
  },
  {
   "cell_type": "code",
   "execution_count": null,
   "metadata": {},
   "outputs": [],
   "source": [
    "import numpy as np\n",
    "\n",
    "step_n = 10\n",
    "steps = np.random.choice([[-1, 0, 1], size=(1,2))\n",
    "for n in range(step_n-1):\n",
    "    step = np.random.choice([-1, 0, 1], size=(1,2))\n",
    "    print(steps)\n",
    "    steps = np.append(steps, step, axis=0)\n",
    "    #something will be checked after each n\n",
    "\n",
    "print(steps)"
   ]
  }
 ],
 "metadata": {
  "kernelspec": {
   "display_name": "Python 3",
   "language": "python",
   "name": "python3"
  },
  "language_info": {
   "codemirror_mode": {
    "name": "ipython",
    "version": 3
   },
   "file_extension": ".py",
   "mimetype": "text/x-python",
   "name": "python",
   "nbconvert_exporter": "python",
   "pygments_lexer": "ipython3",
   "version": "3.7.3"
  }
 },
 "nbformat": 4,
 "nbformat_minor": 4
}
